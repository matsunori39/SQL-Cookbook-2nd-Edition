{
  "nbformat": 4,
  "nbformat_minor": 0,
  "metadata": {
    "colab": {
      "name": "SQL Cookbook 2nd Edition.ipynb",
      "provenance": [],
      "authorship_tag": "ABX9TyNK0xST6HfXE1ZYha2mFaGg",
      "include_colab_link": true
    },
    "kernelspec": {
      "name": "python3",
      "display_name": "Python 3"
    },
    "language_info": {
      "name": "python"
    }
  },
  "cells": [
    {
      "cell_type": "markdown",
      "metadata": {
        "id": "view-in-github",
        "colab_type": "text"
      },
      "source": [
        "<a href=\"https://colab.research.google.com/github/matsunori39/SQL-Cookbook-2nd-Edition/blob/main/SQL_Cookbook_2nd_Edition.ipynb\" target=\"_parent\"><img src=\"https://colab.research.google.com/assets/colab-badge.svg\" alt=\"Open In Colab\"/></a>"
      ]
    },
    {
      "cell_type": "markdown",
      "source": [
        "https://oreilly-japan.github.io/sql-cookbook2-ja/"
      ],
      "metadata": {
        "id": "LLV-Kn0elfR0"
      }
    },
    {
      "cell_type": "code",
      "source": [
        "!pip install ipython-sql -q"
      ],
      "metadata": {
        "id": "HL9S9IurltGM"
      },
      "execution_count": 1,
      "outputs": []
    },
    {
      "cell_type": "code",
      "source": [
        "# ipython-sqlの読み込み\n",
        "%load_ext sql\n",
        "\n",
        "# SQLiteへの接続\n",
        "%sql sqlite:///tmp.sqlite3"
      ],
      "metadata": {
        "colab": {
          "base_uri": "https://localhost:8080/",
          "height": 35
        },
        "id": "hec8US9alw0x",
        "outputId": "44de7cfc-5eae-44ca-9fa8-0b4f38bb8c43"
      },
      "execution_count": 2,
      "outputs": [
        {
          "output_type": "execute_result",
          "data": {
            "text/plain": [
              "'Connected: @tmp.sqlite3'"
            ],
            "application/vnd.google.colaboratory.intrinsic+json": {
              "type": "string"
            }
          },
          "metadata": {},
          "execution_count": 2
        }
      ]
    },
    {
      "cell_type": "markdown",
      "source": [
        "# はじめに"
      ],
      "metadata": {
        "id": "Wt1tt6fwm_ch"
      }
    },
    {
      "cell_type": "markdown",
      "source": [
        "## 本書で使うテーブル"
      ],
      "metadata": {
        "id": "e7xG2RFgnF4I"
      }
    },
    {
      "cell_type": "code",
      "source": [
        "%%sql\n",
        "CREATE TABLE dept (\n",
        "  deptno INT,\n",
        "  dname VARCHAR(14),\n",
        "  loc VARCHAR(13));\n",
        "INSERT INTO dept (deptno, dname, loc) VALUES (10, 'ACCOUNTING', 'NEW YORK');\n",
        "INSERT INTO dept (deptno, dname, loc) VALUES (20, 'RESEARCH', 'DALLAS');\n",
        "INSERT INTO dept (deptno, dname, loc) VALUES (30, 'SALES', 'CHICAGO');\n",
        "INSERT INTO dept (deptno, dname, loc) VALUES (40, 'OPERATIONS', 'BOSTON');"
      ],
      "metadata": {
        "colab": {
          "base_uri": "https://localhost:8080/"
        },
        "id": "VJyNZw7fncg1",
        "outputId": "650f5e59-c888-4298-9cd8-7fc9efa0f2c7"
      },
      "execution_count": 3,
      "outputs": [
        {
          "output_type": "stream",
          "name": "stdout",
          "text": [
            " * sqlite:///tmp.sqlite3\n",
            "Done.\n",
            "1 rows affected.\n",
            "1 rows affected.\n",
            "1 rows affected.\n",
            "1 rows affected.\n"
          ]
        },
        {
          "output_type": "execute_result",
          "data": {
            "text/plain": [
              "[]"
            ]
          },
          "metadata": {},
          "execution_count": 3
        }
      ]
    },
    {
      "cell_type": "code",
      "source": [
        "%%sql\n",
        "CREATE TABLE emp (\n",
        "  empno INT,\n",
        "  ename VARCHAR(10),\n",
        "  job VARCHAR(9),\n",
        "  mgr INT,\n",
        "  hiredate DATE,\n",
        "  sal DECIMAL(7,2),\n",
        "  comm DECIMAL(7,2),\n",
        "  deptno INT);\n",
        "INSERT INTO emp (empno, ename, job, mgr, hiredate, sal, comm, deptno) VALUES (7369, 'SMITH' , 'CLERK'    , 7902, '17-DEC-2005', 800,  NULL, 20);\n",
        "INSERT INTO emp (empno, ename, job, mgr, hiredate, sal, comm, deptno) VALUES (7499, 'ALLEN' , 'SALESMAN' , 7698, '20-FEB-2006', 1600, 300 , 30);\n",
        "INSERT INTO emp (empno, ename, job, mgr, hiredate, sal, comm, deptno) VALUES (7521, 'WARD'  , 'SALESMAN' , 7698, '22-FEB-2006', 1250, 500 , 30);\n",
        "INSERT INTO emp (empno, ename, job, mgr, hiredate, sal, comm, deptno) VALUES (7566, 'JONES' , 'MANAGER'  , 7839, '02-APR-2006', 2975, NULL, 20);\n",
        "INSERT INTO emp (empno, ename, job, mgr, hiredate, sal, comm, deptno) VALUES (7654, 'MARTIN', 'SALESMAN' , 7698, '28-SEP-2006', 1250, 1400, 30);\n",
        "INSERT INTO emp (empno, ename, job, mgr, hiredate, sal, comm, deptno) VALUES (7698, 'BLAKE' , 'MANAGER'  , 7839, '01-MAY-2006', 2850, NULL, NULL);\n",
        "INSERT INTO emp (empno, ename, job, mgr, hiredate, sal, comm, deptno) VALUES (7782, 'CLARK' , 'MANAGER'  , 7839, '09-JUN-2006', 2450, NULL, 10);\n",
        "INSERT INTO emp (empno, ename, job, mgr, hiredate, sal, comm, deptno) VALUES (7788, 'SCOTT' , 'ANALYST'  , 7566, '09-DEC-2007', 3000, NULL, 20);\n",
        "INSERT INTO emp (empno, ename, job, mgr, hiredate, sal, comm, deptno) VALUES (7839, 'KING'  , 'PRESIDENT', NULL, '17-NOV-2006', 5000, NULL, 10);\n",
        "INSERT INTO emp (empno, ename, job, mgr, hiredate, sal, comm, deptno) VALUES (7844, 'TURNER', 'SALESMAN' , 7698, '08-SEP-2006', 1500, 0   , 30);\n",
        "INSERT INTO emp (empno, ename, job, mgr, hiredate, sal, comm, deptno) VALUES (7876, 'ADAMS' , 'CLERK'    , 7788, '12-JAN-2008', 1100, NULL, 20);\n",
        "INSERT INTO emp (empno, ename, job, mgr, hiredate, sal, comm, deptno) VALUES (7900, 'JAMES' , 'CLERK'    , 7698, '03-DEC-2006',  950, NULL, 30);\n",
        "INSERT INTO emp (empno, ename, job, mgr, hiredate, sal, comm, deptno) VALUES (7902, 'FORD'  , 'ANALYST'  , 7566, '03-DEC-2006', 3000, NULL, 20);\n",
        "INSERT INTO emp (empno, ename, job, mgr, hiredate, sal, comm, deptno) VALUES (7934, 'MILLER', 'CLERK'    , 7782, '23-JAN-2007', 1300, NULL, 10);"
      ],
      "metadata": {
        "colab": {
          "base_uri": "https://localhost:8080/"
        },
        "id": "_tnylZ65mPxs",
        "outputId": "b0663c70-bc05-4d60-e2c0-e3deed7cc235"
      },
      "execution_count": 4,
      "outputs": [
        {
          "output_type": "stream",
          "name": "stdout",
          "text": [
            " * sqlite:///tmp.sqlite3\n",
            "Done.\n",
            "1 rows affected.\n",
            "1 rows affected.\n",
            "1 rows affected.\n",
            "1 rows affected.\n",
            "1 rows affected.\n",
            "1 rows affected.\n",
            "1 rows affected.\n",
            "1 rows affected.\n",
            "1 rows affected.\n",
            "1 rows affected.\n",
            "1 rows affected.\n",
            "1 rows affected.\n",
            "1 rows affected.\n",
            "1 rows affected.\n"
          ]
        },
        {
          "output_type": "execute_result",
          "data": {
            "text/plain": [
              "[]"
            ]
          },
          "metadata": {},
          "execution_count": 4
        }
      ]
    },
    {
      "cell_type": "code",
      "source": [
        "%%sql\n",
        "select * from emp;"
      ],
      "metadata": {
        "colab": {
          "base_uri": "https://localhost:8080/",
          "height": 369
        },
        "id": "c75Ln8ysmktq",
        "outputId": "0f328e32-b60a-468f-d922-e9b345f8096f"
      },
      "execution_count": 7,
      "outputs": [
        {
          "output_type": "stream",
          "name": "stdout",
          "text": [
            " * sqlite:///tmp.sqlite3\n",
            "Done.\n"
          ]
        },
        {
          "output_type": "execute_result",
          "data": {
            "text/plain": [
              "[(7369, 'SMITH', 'CLERK', 7902, '17-DEC-2005', 800, None, 20),\n",
              " (7499, 'ALLEN', 'SALESMAN', 7698, '20-FEB-2006', 1600, 300, 30),\n",
              " (7521, 'WARD', 'SALESMAN', 7698, '22-FEB-2006', 1250, 500, 30),\n",
              " (7566, 'JONES', 'MANAGER', 7839, '02-APR-2006', 2975, None, 20),\n",
              " (7654, 'MARTIN', 'SALESMAN', 7698, '28-SEP-2006', 1250, 1400, 30),\n",
              " (7698, 'BLAKE', 'MANAGER', 7839, '01-MAY-2006', 2850, None, None),\n",
              " (7782, 'CLARK', 'MANAGER', 7839, '09-JUN-2006', 2450, None, 10),\n",
              " (7788, 'SCOTT', 'ANALYST', 7566, '09-DEC-2007', 3000, None, 20),\n",
              " (7839, 'KING', 'PRESIDENT', None, '17-NOV-2006', 5000, None, 10),\n",
              " (7844, 'TURNER', 'SALESMAN', 7698, '08-SEP-2006', 1500, 0, 30),\n",
              " (7876, 'ADAMS', 'CLERK', 7788, '12-JAN-2008', 1100, None, 20),\n",
              " (7900, 'JAMES', 'CLERK', 7698, '03-DEC-2006', 950, None, 30),\n",
              " (7902, 'FORD', 'ANALYST', 7566, '03-DEC-2006', 3000, None, 20),\n",
              " (7934, 'MILLER', 'CLERK', 7782, '23-JAN-2007', 1300, None, 10)]"
            ],
            "text/html": [
              "<table>\n",
              "    <thead>\n",
              "        <tr>\n",
              "            <th>empno</th>\n",
              "            <th>ename</th>\n",
              "            <th>job</th>\n",
              "            <th>mgr</th>\n",
              "            <th>hiredate</th>\n",
              "            <th>sal</th>\n",
              "            <th>comm</th>\n",
              "            <th>deptno</th>\n",
              "        </tr>\n",
              "    </thead>\n",
              "    <tbody>\n",
              "        <tr>\n",
              "            <td>7369</td>\n",
              "            <td>SMITH</td>\n",
              "            <td>CLERK</td>\n",
              "            <td>7902</td>\n",
              "            <td>17-DEC-2005</td>\n",
              "            <td>800</td>\n",
              "            <td>None</td>\n",
              "            <td>20</td>\n",
              "        </tr>\n",
              "        <tr>\n",
              "            <td>7499</td>\n",
              "            <td>ALLEN</td>\n",
              "            <td>SALESMAN</td>\n",
              "            <td>7698</td>\n",
              "            <td>20-FEB-2006</td>\n",
              "            <td>1600</td>\n",
              "            <td>300</td>\n",
              "            <td>30</td>\n",
              "        </tr>\n",
              "        <tr>\n",
              "            <td>7521</td>\n",
              "            <td>WARD</td>\n",
              "            <td>SALESMAN</td>\n",
              "            <td>7698</td>\n",
              "            <td>22-FEB-2006</td>\n",
              "            <td>1250</td>\n",
              "            <td>500</td>\n",
              "            <td>30</td>\n",
              "        </tr>\n",
              "        <tr>\n",
              "            <td>7566</td>\n",
              "            <td>JONES</td>\n",
              "            <td>MANAGER</td>\n",
              "            <td>7839</td>\n",
              "            <td>02-APR-2006</td>\n",
              "            <td>2975</td>\n",
              "            <td>None</td>\n",
              "            <td>20</td>\n",
              "        </tr>\n",
              "        <tr>\n",
              "            <td>7654</td>\n",
              "            <td>MARTIN</td>\n",
              "            <td>SALESMAN</td>\n",
              "            <td>7698</td>\n",
              "            <td>28-SEP-2006</td>\n",
              "            <td>1250</td>\n",
              "            <td>1400</td>\n",
              "            <td>30</td>\n",
              "        </tr>\n",
              "        <tr>\n",
              "            <td>7698</td>\n",
              "            <td>BLAKE</td>\n",
              "            <td>MANAGER</td>\n",
              "            <td>7839</td>\n",
              "            <td>01-MAY-2006</td>\n",
              "            <td>2850</td>\n",
              "            <td>None</td>\n",
              "            <td>None</td>\n",
              "        </tr>\n",
              "        <tr>\n",
              "            <td>7782</td>\n",
              "            <td>CLARK</td>\n",
              "            <td>MANAGER</td>\n",
              "            <td>7839</td>\n",
              "            <td>09-JUN-2006</td>\n",
              "            <td>2450</td>\n",
              "            <td>None</td>\n",
              "            <td>10</td>\n",
              "        </tr>\n",
              "        <tr>\n",
              "            <td>7788</td>\n",
              "            <td>SCOTT</td>\n",
              "            <td>ANALYST</td>\n",
              "            <td>7566</td>\n",
              "            <td>09-DEC-2007</td>\n",
              "            <td>3000</td>\n",
              "            <td>None</td>\n",
              "            <td>20</td>\n",
              "        </tr>\n",
              "        <tr>\n",
              "            <td>7839</td>\n",
              "            <td>KING</td>\n",
              "            <td>PRESIDENT</td>\n",
              "            <td>None</td>\n",
              "            <td>17-NOV-2006</td>\n",
              "            <td>5000</td>\n",
              "            <td>None</td>\n",
              "            <td>10</td>\n",
              "        </tr>\n",
              "        <tr>\n",
              "            <td>7844</td>\n",
              "            <td>TURNER</td>\n",
              "            <td>SALESMAN</td>\n",
              "            <td>7698</td>\n",
              "            <td>08-SEP-2006</td>\n",
              "            <td>1500</td>\n",
              "            <td>0</td>\n",
              "            <td>30</td>\n",
              "        </tr>\n",
              "        <tr>\n",
              "            <td>7876</td>\n",
              "            <td>ADAMS</td>\n",
              "            <td>CLERK</td>\n",
              "            <td>7788</td>\n",
              "            <td>12-JAN-2008</td>\n",
              "            <td>1100</td>\n",
              "            <td>None</td>\n",
              "            <td>20</td>\n",
              "        </tr>\n",
              "        <tr>\n",
              "            <td>7900</td>\n",
              "            <td>JAMES</td>\n",
              "            <td>CLERK</td>\n",
              "            <td>7698</td>\n",
              "            <td>03-DEC-2006</td>\n",
              "            <td>950</td>\n",
              "            <td>None</td>\n",
              "            <td>30</td>\n",
              "        </tr>\n",
              "        <tr>\n",
              "            <td>7902</td>\n",
              "            <td>FORD</td>\n",
              "            <td>ANALYST</td>\n",
              "            <td>7566</td>\n",
              "            <td>03-DEC-2006</td>\n",
              "            <td>3000</td>\n",
              "            <td>None</td>\n",
              "            <td>20</td>\n",
              "        </tr>\n",
              "        <tr>\n",
              "            <td>7934</td>\n",
              "            <td>MILLER</td>\n",
              "            <td>CLERK</td>\n",
              "            <td>7782</td>\n",
              "            <td>23-JAN-2007</td>\n",
              "            <td>1300</td>\n",
              "            <td>None</td>\n",
              "            <td>10</td>\n",
              "        </tr>\n",
              "    </tbody>\n",
              "</table>"
            ]
          },
          "metadata": {},
          "execution_count": 7
        }
      ]
    },
    {
      "cell_type": "code",
      "source": [
        "%%sql\n",
        "select * from dept;"
      ],
      "metadata": {
        "colab": {
          "base_uri": "https://localhost:8080/",
          "height": 160
        },
        "id": "lX8cF44mmuFF",
        "outputId": "00a84180-6573-49f3-93f6-36f16fa3f40b"
      },
      "execution_count": 8,
      "outputs": [
        {
          "output_type": "stream",
          "name": "stdout",
          "text": [
            " * sqlite:///tmp.sqlite3\n",
            "Done.\n"
          ]
        },
        {
          "output_type": "execute_result",
          "data": {
            "text/plain": [
              "[(10, 'ACCOUNTING', 'NEW YORK'),\n",
              " (20, 'RESEARCH', 'DALLAS'),\n",
              " (30, 'SALES', 'CHICAGO'),\n",
              " (40, 'OPERATIONS', 'BOSTON')]"
            ],
            "text/html": [
              "<table>\n",
              "    <thead>\n",
              "        <tr>\n",
              "            <th>deptno</th>\n",
              "            <th>dname</th>\n",
              "            <th>loc</th>\n",
              "        </tr>\n",
              "    </thead>\n",
              "    <tbody>\n",
              "        <tr>\n",
              "            <td>10</td>\n",
              "            <td>ACCOUNTING</td>\n",
              "            <td>NEW YORK</td>\n",
              "        </tr>\n",
              "        <tr>\n",
              "            <td>20</td>\n",
              "            <td>RESEARCH</td>\n",
              "            <td>DALLAS</td>\n",
              "        </tr>\n",
              "        <tr>\n",
              "            <td>30</td>\n",
              "            <td>SALES</td>\n",
              "            <td>CHICAGO</td>\n",
              "        </tr>\n",
              "        <tr>\n",
              "            <td>40</td>\n",
              "            <td>OPERATIONS</td>\n",
              "            <td>BOSTON</td>\n",
              "        </tr>\n",
              "    </tbody>\n",
              "</table>"
            ]
          },
          "metadata": {},
          "execution_count": 8
        }
      ]
    },
    {
      "cell_type": "markdown",
      "source": [
        "# 1章 レコードの取得"
      ],
      "metadata": {
        "id": "-MSpa-ROn9eM"
      }
    },
    {
      "cell_type": "markdown",
      "source": [
        "## レシピ1.1 テーブルからすべての行と列を取得する"
      ],
      "metadata": {
        "id": "cSHdngpmolUj"
      }
    },
    {
      "cell_type": "code",
      "source": [
        "%%sql\n",
        "select *\n",
        "  from emp"
      ],
      "metadata": {
        "colab": {
          "base_uri": "https://localhost:8080/",
          "height": 369
        },
        "id": "CyRx1U4Most6",
        "outputId": "916ae80c-06ec-4fbf-fc45-67804018d55f"
      },
      "execution_count": 9,
      "outputs": [
        {
          "output_type": "stream",
          "name": "stdout",
          "text": [
            " * sqlite:///tmp.sqlite3\n",
            "Done.\n"
          ]
        },
        {
          "output_type": "execute_result",
          "data": {
            "text/plain": [
              "[(7369, 'SMITH', 'CLERK', 7902, '17-DEC-2005', 800, None, 20),\n",
              " (7499, 'ALLEN', 'SALESMAN', 7698, '20-FEB-2006', 1600, 300, 30),\n",
              " (7521, 'WARD', 'SALESMAN', 7698, '22-FEB-2006', 1250, 500, 30),\n",
              " (7566, 'JONES', 'MANAGER', 7839, '02-APR-2006', 2975, None, 20),\n",
              " (7654, 'MARTIN', 'SALESMAN', 7698, '28-SEP-2006', 1250, 1400, 30),\n",
              " (7698, 'BLAKE', 'MANAGER', 7839, '01-MAY-2006', 2850, None, None),\n",
              " (7782, 'CLARK', 'MANAGER', 7839, '09-JUN-2006', 2450, None, 10),\n",
              " (7788, 'SCOTT', 'ANALYST', 7566, '09-DEC-2007', 3000, None, 20),\n",
              " (7839, 'KING', 'PRESIDENT', None, '17-NOV-2006', 5000, None, 10),\n",
              " (7844, 'TURNER', 'SALESMAN', 7698, '08-SEP-2006', 1500, 0, 30),\n",
              " (7876, 'ADAMS', 'CLERK', 7788, '12-JAN-2008', 1100, None, 20),\n",
              " (7900, 'JAMES', 'CLERK', 7698, '03-DEC-2006', 950, None, 30),\n",
              " (7902, 'FORD', 'ANALYST', 7566, '03-DEC-2006', 3000, None, 20),\n",
              " (7934, 'MILLER', 'CLERK', 7782, '23-JAN-2007', 1300, None, 10)]"
            ],
            "text/html": [
              "<table>\n",
              "    <thead>\n",
              "        <tr>\n",
              "            <th>empno</th>\n",
              "            <th>ename</th>\n",
              "            <th>job</th>\n",
              "            <th>mgr</th>\n",
              "            <th>hiredate</th>\n",
              "            <th>sal</th>\n",
              "            <th>comm</th>\n",
              "            <th>deptno</th>\n",
              "        </tr>\n",
              "    </thead>\n",
              "    <tbody>\n",
              "        <tr>\n",
              "            <td>7369</td>\n",
              "            <td>SMITH</td>\n",
              "            <td>CLERK</td>\n",
              "            <td>7902</td>\n",
              "            <td>17-DEC-2005</td>\n",
              "            <td>800</td>\n",
              "            <td>None</td>\n",
              "            <td>20</td>\n",
              "        </tr>\n",
              "        <tr>\n",
              "            <td>7499</td>\n",
              "            <td>ALLEN</td>\n",
              "            <td>SALESMAN</td>\n",
              "            <td>7698</td>\n",
              "            <td>20-FEB-2006</td>\n",
              "            <td>1600</td>\n",
              "            <td>300</td>\n",
              "            <td>30</td>\n",
              "        </tr>\n",
              "        <tr>\n",
              "            <td>7521</td>\n",
              "            <td>WARD</td>\n",
              "            <td>SALESMAN</td>\n",
              "            <td>7698</td>\n",
              "            <td>22-FEB-2006</td>\n",
              "            <td>1250</td>\n",
              "            <td>500</td>\n",
              "            <td>30</td>\n",
              "        </tr>\n",
              "        <tr>\n",
              "            <td>7566</td>\n",
              "            <td>JONES</td>\n",
              "            <td>MANAGER</td>\n",
              "            <td>7839</td>\n",
              "            <td>02-APR-2006</td>\n",
              "            <td>2975</td>\n",
              "            <td>None</td>\n",
              "            <td>20</td>\n",
              "        </tr>\n",
              "        <tr>\n",
              "            <td>7654</td>\n",
              "            <td>MARTIN</td>\n",
              "            <td>SALESMAN</td>\n",
              "            <td>7698</td>\n",
              "            <td>28-SEP-2006</td>\n",
              "            <td>1250</td>\n",
              "            <td>1400</td>\n",
              "            <td>30</td>\n",
              "        </tr>\n",
              "        <tr>\n",
              "            <td>7698</td>\n",
              "            <td>BLAKE</td>\n",
              "            <td>MANAGER</td>\n",
              "            <td>7839</td>\n",
              "            <td>01-MAY-2006</td>\n",
              "            <td>2850</td>\n",
              "            <td>None</td>\n",
              "            <td>None</td>\n",
              "        </tr>\n",
              "        <tr>\n",
              "            <td>7782</td>\n",
              "            <td>CLARK</td>\n",
              "            <td>MANAGER</td>\n",
              "            <td>7839</td>\n",
              "            <td>09-JUN-2006</td>\n",
              "            <td>2450</td>\n",
              "            <td>None</td>\n",
              "            <td>10</td>\n",
              "        </tr>\n",
              "        <tr>\n",
              "            <td>7788</td>\n",
              "            <td>SCOTT</td>\n",
              "            <td>ANALYST</td>\n",
              "            <td>7566</td>\n",
              "            <td>09-DEC-2007</td>\n",
              "            <td>3000</td>\n",
              "            <td>None</td>\n",
              "            <td>20</td>\n",
              "        </tr>\n",
              "        <tr>\n",
              "            <td>7839</td>\n",
              "            <td>KING</td>\n",
              "            <td>PRESIDENT</td>\n",
              "            <td>None</td>\n",
              "            <td>17-NOV-2006</td>\n",
              "            <td>5000</td>\n",
              "            <td>None</td>\n",
              "            <td>10</td>\n",
              "        </tr>\n",
              "        <tr>\n",
              "            <td>7844</td>\n",
              "            <td>TURNER</td>\n",
              "            <td>SALESMAN</td>\n",
              "            <td>7698</td>\n",
              "            <td>08-SEP-2006</td>\n",
              "            <td>1500</td>\n",
              "            <td>0</td>\n",
              "            <td>30</td>\n",
              "        </tr>\n",
              "        <tr>\n",
              "            <td>7876</td>\n",
              "            <td>ADAMS</td>\n",
              "            <td>CLERK</td>\n",
              "            <td>7788</td>\n",
              "            <td>12-JAN-2008</td>\n",
              "            <td>1100</td>\n",
              "            <td>None</td>\n",
              "            <td>20</td>\n",
              "        </tr>\n",
              "        <tr>\n",
              "            <td>7900</td>\n",
              "            <td>JAMES</td>\n",
              "            <td>CLERK</td>\n",
              "            <td>7698</td>\n",
              "            <td>03-DEC-2006</td>\n",
              "            <td>950</td>\n",
              "            <td>None</td>\n",
              "            <td>30</td>\n",
              "        </tr>\n",
              "        <tr>\n",
              "            <td>7902</td>\n",
              "            <td>FORD</td>\n",
              "            <td>ANALYST</td>\n",
              "            <td>7566</td>\n",
              "            <td>03-DEC-2006</td>\n",
              "            <td>3000</td>\n",
              "            <td>None</td>\n",
              "            <td>20</td>\n",
              "        </tr>\n",
              "        <tr>\n",
              "            <td>7934</td>\n",
              "            <td>MILLER</td>\n",
              "            <td>CLERK</td>\n",
              "            <td>7782</td>\n",
              "            <td>23-JAN-2007</td>\n",
              "            <td>1300</td>\n",
              "            <td>None</td>\n",
              "            <td>10</td>\n",
              "        </tr>\n",
              "    </tbody>\n",
              "</table>"
            ]
          },
          "metadata": {},
          "execution_count": 9
        }
      ]
    },
    {
      "cell_type": "code",
      "source": [
        ""
      ],
      "metadata": {
        "id": "HuNEj8KsoxPi"
      },
      "execution_count": null,
      "outputs": []
    }
  ]
}